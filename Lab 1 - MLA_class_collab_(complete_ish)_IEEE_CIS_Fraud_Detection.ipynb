{
 "cells": [
  {
   "cell_type": "markdown",
   "metadata": {
    "id": "pq1ujt0fNxGU",
    "tags": []
   },
   "source": [
    "# Basic Setup, Downloading data, etc."
   ]
  },
  {
   "cell_type": "markdown",
   "metadata": {
    "id": "1apGQQzpOlDV"
   },
   "source": [
    "## Imports"
   ]
  },
  {
   "cell_type": "code",
   "execution_count": null,
   "metadata": {
    "id": "zZUwJ9pqNpcX"
   },
   "outputs": [],
   "source": [
    "import numpy as np\n",
    "import seaborn as sns\n",
    "import pandas as pd\n",
    "import matplotlib.pylab as plt\n",
    "from cycler import cycler\n",
    "from sklearn.model_selection import train_test_split\n",
    "from sklearn.metrics import roc_auc_score, accuracy_score\n"
   ]
  },
  {
   "cell_type": "markdown",
   "metadata": {
    "id": "C8HFiuDkO0lI"
   },
   "source": [
    "### Read in data"
   ]
  },
  {
   "cell_type": "code",
   "execution_count": null,
   "metadata": {
    "id": "0AW8w5sVZpVp"
   },
   "outputs": [],
   "source": [
    "np.random.seed(314159)\n",
    "train_txn = pd.read_csv('data/train_transaction.csv')\n",
    "test_txn = pd.read_csv('data/test_transaction.csv')\n",
    "train_id = pd.read_csv('data/train_identity.csv')"
   ]
  },
  {
   "cell_type": "markdown",
   "metadata": {
    "id": "o7Y7KCDhO2QF"
   },
   "source": [
    "### Split training into train/validation set"
   ]
  },
  {
   "cell_type": "code",
   "execution_count": null,
   "metadata": {
    "id": "lTaLJeRWNrG9"
   },
   "outputs": [],
   "source": [
    "#_RESPONSE = 'isFraud'\n",
    "#y_df = train_txn[_RESPONSE]\n",
    "#x_df = train_txn\n",
    "#del x_df[_RESPONSE]\n",
    "\n",
    "#train_txn, valid_txn = train_test_split(train_txn, test_size=0.25, stratify=train_txn['isFraud'])"
   ]
  },
  {
   "cell_type": "markdown",
   "metadata": {
    "id": "o2XfFA28O5tK"
   },
   "source": [
    "# Very basic EDA"
   ]
  },
  {
   "cell_type": "code",
   "execution_count": null,
   "metadata": {
    "id": "5uRSwFXq4aYD"
   },
   "outputs": [],
   "source": [
    "plt.style.use('ggplot')\n",
    "color_pal = [x['color'] for x in plt.rcParams['axes.prop_cycle']]\n",
    "\n",
    "prop_cycle=(cycler('color', color_pal))"
   ]
  },
  {
   "cell_type": "code",
   "execution_count": null,
   "metadata": {
    "colab": {
     "base_uri": "https://localhost:8080/"
    },
    "id": "9eklTtMtZ2ZS",
    "outputId": "89890986-e5d0-4161-d2b1-1bf812f9615a"
   },
   "outputs": [],
   "source": [
    "train_txn.shape"
   ]
  },
  {
   "cell_type": "code",
   "execution_count": null,
   "metadata": {
    "id": "-eHe-lOLPzbg"
   },
   "outputs": [],
   "source": [
    "#valid_txn.shape"
   ]
  },
  {
   "cell_type": "code",
   "execution_count": null,
   "metadata": {
    "colab": {
     "base_uri": "https://localhost:8080/"
    },
    "id": "VmJHoYVZZYAw",
    "outputId": "d81f7ebf-9089-4264-bb1e-823b355bec46"
   },
   "outputs": [],
   "source": [
    "list(train_txn.columns)[:10]"
   ]
  },
  {
   "cell_type": "code",
   "execution_count": null,
   "metadata": {
    "colab": {
     "base_uri": "https://localhost:8080/"
    },
    "id": "hFHrvc3YZeJV",
    "outputId": "6d88bdfd-7e0f-4afb-c25c-40d4160a2c3c"
   },
   "outputs": [],
   "source": [
    "set(train_txn.columns) - set(test_txn.columns)"
   ]
  },
  {
   "cell_type": "code",
   "execution_count": null,
   "metadata": {
    "colab": {
     "base_uri": "https://localhost:8080/"
    },
    "id": "j-iayqAA_iSa",
    "outputId": "c4aa4fae-18ae-4530-d03b-3eb63da182b7"
   },
   "outputs": [],
   "source": [
    "test_txn.shape"
   ]
  },
  {
   "cell_type": "code",
   "execution_count": null,
   "metadata": {
    "colab": {
     "base_uri": "https://localhost:8080/",
     "height": 394
    },
    "id": "V1Mi55VvP0vV",
    "outputId": "8f51493d-d7f3-4977-8b8c-c8928f5ca280"
   },
   "outputs": [],
   "source": [
    "train_txn.describe()"
   ]
  },
  {
   "cell_type": "code",
   "execution_count": null,
   "metadata": {
    "colab": {
     "base_uri": "https://localhost:8080/"
    },
    "id": "eSBqh8wWQjlR",
    "outputId": "8447b658-a2f3-477f-abc1-eda4d0850c66"
   },
   "outputs": [],
   "source": [
    "isFraud = train_txn[train_txn['isFraud']==1]['isFraud']\n",
    "isNotFraud = train_txn[train_txn['isFraud']==0]['isFraud']\n",
    "print('Num fraud: {}\\nNon non-fraud: {}\\nPercent fraud: {}'.format(isFraud.count(), isNotFraud.count(), isFraud.count()/(isNotFraud.count()+isFraud.count())))"
   ]
  },
  {
   "cell_type": "code",
   "execution_count": null,
   "metadata": {
    "colab": {
     "base_uri": "https://localhost:8080/",
     "height": 283
    },
    "id": "V8YCCKVvQAX2",
    "outputId": "d897297e-b743-4cff-ab1a-9e0b69f0dac9"
   },
   "outputs": [],
   "source": [
    "train_txn['isFraud'].hist(bins=2)"
   ]
  },
  {
   "cell_type": "code",
   "execution_count": null,
   "metadata": {
    "colab": {
     "base_uri": "https://localhost:8080/",
     "height": 283
    },
    "id": "8_4DgfPfS7-D",
    "outputId": "36bbb730-865c-40e1-ad0c-3086e7f2922f"
   },
   "outputs": [],
   "source": [
    "train_txn['ProductCD'].value_counts().plot(kind='bar')"
   ]
  },
  {
   "cell_type": "code",
   "execution_count": null,
   "metadata": {
    "id": "Rr3sr1QS6YNN"
   },
   "outputs": [],
   "source": [
    "def list_pcnt(feature, threshold=1, data=train_txn):\n",
    "  pe = data.groupby([feature, 'isFraud'])['TransactionID'].count()\n",
    "  values = data[feature].unique()\n",
    "  values = [x for x in values if x==x]\n",
    "  for v in values:\n",
    "    det = pe[v]\n",
    "    if(len(det) > 1):\n",
    "      nf = det[0]\n",
    "      f = det[1]\n",
    "      total = nf+f\n",
    "      if total > threshold:\n",
    "        print(\"Percent\", v, \"is fraud:\", round(100*f/(total), 2), \"% of\", total)\n",
    "    else:\n",
    "      if det[0] > threshold:\n",
    "        print(\"Percent\", v, \"is fraud: 0\")"
   ]
  },
  {
   "cell_type": "code",
   "execution_count": null,
   "metadata": {
    "colab": {
     "base_uri": "https://localhost:8080/"
    },
    "id": "Qc2zMtoUTTaq",
    "outputId": "07940892-c6ff-496d-9ddb-603e64226f8f"
   },
   "outputs": [],
   "source": [
    "list_pcnt('card4')"
   ]
  },
  {
   "cell_type": "code",
   "execution_count": null,
   "metadata": {
    "colab": {
     "base_uri": "https://localhost:8080/"
    },
    "id": "deGTXn956g_G",
    "outputId": "8a919269-4ac7-4d81-bcb4-3c443cdccd85"
   },
   "outputs": [],
   "source": [
    "list_pcnt('P_emaildomain', 1000)"
   ]
  },
  {
   "cell_type": "code",
   "execution_count": null,
   "metadata": {
    "colab": {
     "base_uri": "https://localhost:8080/"
    },
    "id": "WL6PtBod8DWA",
    "outputId": "a8c3c148-1d4c-42ff-a424-203270e19c54"
   },
   "outputs": [],
   "source": [
    "list_pcnt('R_emaildomain', 1000)"
   ]
  },
  {
   "cell_type": "code",
   "execution_count": null,
   "metadata": {
    "colab": {
     "base_uri": "https://localhost:8080/",
     "height": 228
    },
    "id": "jIEcS4tW-R71",
    "outputId": "10fe1fe9-0ec6-4d08-fea4-95391f761e0e"
   },
   "outputs": [],
   "source": [
    "train_txn.groupby('ProductCD') \\\n",
    "    ['TransactionID'].count() \\\n",
    "    .sort_index() \\\n",
    "    .plot(kind='barh',\n",
    "        figsize=(15, 3),\n",
    "        title='Count of Observations by ProductCD',\n",
    "        color=color_pal[1])\n",
    "plt.show()"
   ]
  },
  {
   "cell_type": "code",
   "execution_count": null,
   "metadata": {
    "colab": {
     "base_uri": "https://localhost:8080/",
     "height": 228
    },
    "id": "F5S434bOAU6v",
    "outputId": "757ac322-5b7e-4970-b3dc-6b06157bf71d"
   },
   "outputs": [],
   "source": [
    "train_txn.groupby('ProductCD')['isFraud'] \\\n",
    "    .mean() \\\n",
    "    .sort_index() \\\n",
    "    .plot(kind='barh',\n",
    "          figsize=(15, 3),\n",
    "         title='Percentage of Fraud by ProductCD')\n",
    "plt.show()"
   ]
  },
  {
   "cell_type": "code",
   "execution_count": null,
   "metadata": {
    "colab": {
     "base_uri": "https://localhost:8080/",
     "height": 391
    },
    "id": "mn7uXPLHAeV2",
    "outputId": "d162e5f7-0669-45ae-827f-a86e9ad133ae"
   },
   "outputs": [],
   "source": [
    "fig, ((ax1, ax2)) = plt.subplots(1, 2, figsize=(15, 6))\n",
    "train_txn.loc[train_txn['isFraud'] == 1] \\\n",
    "    ['ProductCD'].value_counts() \\\n",
    "    .plot(kind='bar',\n",
    "          title='Product Category (fraud)',\n",
    "          color=color_pal[1],\n",
    "          xlim=(-3, 10),\n",
    "         ax= ax1)\n",
    "train_txn.loc[train_txn['isFraud'] == 0] \\\n",
    "    ['ProductCD'].value_counts() \\\n",
    "    .plot(kind='bar',\n",
    "          title='Product Category (non-fraud)',\n",
    "          color=color_pal[2],\n",
    "          xlim=(-3, 10),\n",
    "         ax=ax2)\n",
    "plt.show()"
   ]
  },
  {
   "cell_type": "code",
   "execution_count": null,
   "metadata": {
    "id": "1ZEZYz5RApmW"
   },
   "outputs": [],
   "source": [
    "#drop categorical features with high cardinality\n",
    "new_df = train_txn.drop(columns=['P_emaildomain', 'R_emaildomain'])\n",
    "\n",
    "#one-hot remaining categorical features\n",
    "new_df = pd.get_dummies(new_df, columns=['ProductCD'], prefix=['ProductCD'])\n",
    "new_df = pd.get_dummies(new_df, columns=['card4'], prefix=['card4'])\n",
    "new_df = pd.get_dummies(new_df, columns=['card6'], prefix=['card6'])\n",
    "\n",
    "\n",
    "\n",
    "#drop columns that have >=25% missing values\n",
    "size = train_txn.shape[0]\n",
    "#new_df = new_df.dropna(axis=1, thresh=(.25 * size))\n",
    "\n",
    "#drop rows that still have missing values (won't drop more than 25% of dataset, guaranteed above)\n",
    "#new_df = new_df.dropna(axis=0)\n",
    "\n",
    "#binary encode M1-9\n",
    "encode = lambda truth: 1 if truth==\"T\" else 0\n",
    "for i in range(1,10):\n",
    "  label = \"M\" + str(i)\n",
    "  new_df[label] = new_df[label].apply(encode)"
   ]
  },
  {
   "cell_type": "code",
   "execution_count": null,
   "metadata": {
    "colab": {
     "base_uri": "https://localhost:8080/",
     "height": 411
    },
    "id": "cs-aiDSvAwVD",
    "outputId": "901d424a-a47a-4359-ae29-e135439fc68a"
   },
   "outputs": [],
   "source": [
    "new_df.describe()"
   ]
  },
  {
   "cell_type": "code",
   "execution_count": null,
   "metadata": {
    "id": "hIXNCwTjBvcF"
   },
   "outputs": [],
   "source": [
    "def plot_corr(df,size=10):\n",
    "    \"\"\"Function plots a graphical correlation matrix for each pair of columns in the dataframe.\n",
    "\n",
    "    Input:\n",
    "        df: pandas DataFrame\n",
    "        size: vertical and horizontal size of the plot\n",
    "    \"\"\"\n",
    "    import matplotlib.pyplot as plt\n",
    "\n",
    "    inter_cols = [\n",
    "      'TransactionID',\n",
    "      'isFraud',\n",
    "      'TransactionDT',\n",
    "      'TransactionAmt',\n",
    "      'ProductCD_W',\n",
    "      'ProductCD_C',\n",
    "      'ProductCD_H',\n",
    "      'ProductCD_R',\n",
    "      'ProductCD_S',\n",
    "      ]\n",
    "    corr = df.corrwith(new_df[inter_cols])\n",
    "    fig, ax = plt.subplots(figsize=(size, size))\n",
    "    ax.matshow(corr)\n",
    "    plt.xticks(range(len(corr.columns)), corr.columns)\n",
    "    plt.yticks(range(len(inter_cols.columns)), inter_cols.columns)\n",
    "\n",
    "    plt.savefig(\"corr_plot.png\", bbox_inches = 'tight')\n",
    "\n",
    "#plot_corr(new_df, new_df.shape[1])\n",
    "\n",
    "#from IPython.display import Image\n",
    "#Image('corr_plot.png')"
   ]
  },
  {
   "cell_type": "code",
   "execution_count": null,
   "metadata": {
    "id": "eFM6nzLsCnKJ"
   },
   "outputs": [],
   "source": [
    "lim_corr = new_df.corrwith(new_df['isFraud'])"
   ]
  },
  {
   "cell_type": "code",
   "execution_count": null,
   "metadata": {
    "colab": {
     "base_uri": "https://localhost:8080/"
    },
    "id": "iwsXrz6fDPg8",
    "outputId": "8e8d3d31-ba8f-41a3-8302-58a9e77c51c7"
   },
   "outputs": [],
   "source": [
    "lim_corr.filter(regex='[^V\\d+]', axis=0).sort_values(ascending=False).head(50)"
   ]
  },
  {
   "cell_type": "code",
   "execution_count": null,
   "metadata": {
    "colab": {
     "base_uri": "https://localhost:8080/"
    },
    "id": "LunUTF48GF4b",
    "outputId": "0f0a84f5-10ba-45bf-8573-661f988cf821"
   },
   "outputs": [],
   "source": [
    "lim_corr.filter(regex='[^V\\d+]', axis=0).sort_values().head(50)"
   ]
  },
  {
   "cell_type": "code",
   "execution_count": null,
   "metadata": {
    "colab": {
     "base_uri": "https://localhost:8080/",
     "height": 295
    },
    "id": "JhGI1pmqLRHC",
    "outputId": "d5a565ad-9a85-4b8c-a7ba-7e6860bd5109"
   },
   "outputs": [],
   "source": [
    "import matplotlib.pyplot as plt\n",
    "%matplotlib inline\n",
    "\n",
    "plt.hist(train_txn['TransactionDT'], label='train');\n",
    "plt.hist(test_txn['TransactionDT'], label='test');\n",
    "plt.legend();\n",
    "plt.title('Distribution of transaction dates');\n",
    "plt.show()"
   ]
  },
  {
   "cell_type": "code",
   "execution_count": null,
   "metadata": {
    "colab": {
     "base_uri": "https://localhost:8080/",
     "height": 505
    },
    "id": "5EBki-viNghF",
    "outputId": "cfc93e3a-1843-4829-94ed-c72a03070320"
   },
   "outputs": [],
   "source": [
    "frauds = train_txn.loc[train_txn['isFraud'] == 1]\n",
    "frauds\n"
   ]
  },
  {
   "cell_type": "code",
   "execution_count": null,
   "metadata": {
    "colab": {
     "base_uri": "https://localhost:8080/",
     "height": 488
    },
    "id": "362vNb3oNh46",
    "outputId": "62a647fe-883e-441f-c4cd-32578eb3c7a9"
   },
   "outputs": [],
   "source": [
    "notfraud = train_txn.loc[train_txn['isFraud'] == 0].sample(n=20663)\n",
    "even = pd.concat([frauds,notfraud], ignore_index=True)\n",
    "even = even.loc[:,~even.columns.str.startswith('V')]\n",
    "even"
   ]
  },
  {
   "cell_type": "code",
   "execution_count": null,
   "metadata": {
    "id": "4By58LZqNw6P"
   },
   "outputs": [],
   "source": [
    "trimmed = train_txn.loc[:,~train_txn.columns.str.startswith('V')]"
   ]
  },
  {
   "cell_type": "code",
   "execution_count": null,
   "metadata": {
    "colab": {
     "base_uri": "https://localhost:8080/",
     "height": 1000
    },
    "id": "0Hitzr-oN_yB",
    "outputId": "8724e217-c4f5-449f-a54b-1db2b84a6e7e"
   },
   "outputs": [],
   "source": [
    "import seaborn as sn\n",
    "import matplotlib.pyplot as plt\n",
    "%matplotlib inline\n",
    "plt.rcParams['figure.figsize'] = [30, 30]\n",
    "\n",
    "corrMatrix = even.corr()\n",
    "sn.heatmap(corrMatrix, annot=True)\n",
    "plt.show()"
   ]
  },
  {
   "cell_type": "code",
   "execution_count": null,
   "metadata": {
    "colab": {
     "base_uri": "https://localhost:8080/",
     "height": 1000
    },
    "id": "RTbVxwhWOMYJ",
    "outputId": "c2fb6346-101e-4e70-b07c-5972208bbc9d"
   },
   "outputs": [],
   "source": [
    "corrMatrixTrim = trimmed.corr()\n",
    "sn.heatmap(corrMatrixTrim, annot=True)\n",
    "plt.show()"
   ]
  },
  {
   "cell_type": "code",
   "execution_count": null,
   "metadata": {
    "colab": {
     "base_uri": "https://localhost:8080/",
     "height": 138
    },
    "id": "cmrXKZJgOTLV",
    "outputId": "249285c4-6bfb-425e-cf1c-d54a67858faa"
   },
   "outputs": [],
   "source": [
    "# from some kaggle eda to plot the \n",
    "\n",
    "total = len(trimmed)\n",
    "\n",
    "tmp = pd.crosstab(trimmed['card3'], trimmed['isFraud'], normalize='index') * 100\n",
    "tmp = tmp.reset_index()\n",
    "tmp.rename(columns={0:'NoFraud', 1:'Fraud'}, inplace=True)\n",
    "\n",
    "plt.figure(figsize=(100,10))\n",
    "\n",
    "g2 = sn.countplot(x='card3', data=trimmed, order=list(tmp.card3.values))\n",
    "g22 = g2.twinx()\n",
    "gg2 = sn.pointplot(x='card3', y='Fraud', data=tmp, \n",
    "                    color='black', order=list(tmp.card3.values))\n",
    "gg2.set_ylabel(\"% of Fraud Transactions\", fontsize=16)\n",
    "g2.set_title(\"Card 3 Values Distribution and % of Transaction Frauds\", fontsize=20)\n",
    "g2.set_xlabel(\"Card 3 Values\", fontsize=18)\n",
    "g2.set_ylabel(\"Count\", fontsize=18)\n",
    "for p in g2.patches:\n",
    "    height = p.get_height()\n",
    "    g2.text(p.get_x()+p.get_width()/2.,\n",
    "            height + 25,\n",
    "            '{:1.2f}%'.format(height/total*100),\n",
    "            ha=\"center\") \n"
   ]
  },
  {
   "cell_type": "code",
   "execution_count": null,
   "metadata": {
    "colab": {
     "base_uri": "https://localhost:8080/",
     "height": 81
    },
    "id": "VhsiiImuP0U4",
    "outputId": "5876ef4a-2324-49f6-a636-8f1b6435ffda"
   },
   "outputs": [],
   "source": [
    "trimmed[[\"card3\",\"isFraud\"]][trimmed[\"card3\"]==125]\n",
    "# trimmed[[\"card3\",\"isFraud\"]][trimmed[\"card3\"]==125]"
   ]
  },
  {
   "cell_type": "code",
   "execution_count": null,
   "metadata": {
    "colab": {
     "base_uri": "https://localhost:8080/",
     "height": 253
    },
    "id": "yagRgtIKOXYE",
    "outputId": "7c40382d-250e-4379-c617-b399b927f6cb"
   },
   "outputs": [],
   "source": [
    "# from some kaggle eda to plot the \n",
    "\n",
    "total = len(even)\n",
    "\n",
    "tmp = pd.crosstab(even['card3'], even['isFraud'], normalize='index') * 100\n",
    "tmp = tmp.reset_index()\n",
    "tmp.rename(columns={0:'NoFraud', 1:'Fraud'}, inplace=True)\n",
    "\n",
    "plt.figure(figsize=(50,10))\n",
    "\n",
    "g2 = sn.countplot(x='card3', data=even, order=list(tmp.card3.values))\n",
    "g22 = g2.twinx()\n",
    "gg2 = sn.pointplot(x='card3', y='Fraud', data=tmp, \n",
    "                    color='black', order=list(tmp.card3.values))\n",
    "gg2.set_ylabel(\"% of Fraud Transactions\", fontsize=16)\n",
    "g2.set_title(\"Card 3 Values Distribution and % of Transaction Frauds\", fontsize=20)\n",
    "g2.set_xlabel(\"Card 3 Values\", fontsize=18)\n",
    "g2.set_ylabel(\"Count\", fontsize=18)\n",
    "for p in g2.patches:\n",
    "    height = p.get_height()\n",
    "    g2.text(p.get_x()+p.get_width()/2.,\n",
    "            height + 25,\n",
    "            '{:1.2f}%'.format(height/total*100),\n",
    "            ha=\"center\") \n"
   ]
  },
  {
   "cell_type": "code",
   "execution_count": null,
   "metadata": {
    "colab": {
     "base_uri": "https://localhost:8080/",
     "height": 424
    },
    "id": "3wKYp-2WOXQ4",
    "outputId": "1f2c24ba-b0c7-4e84-f9ea-7d83ddcd2395"
   },
   "outputs": [],
   "source": [
    "even[[\"isFraud\",\"card3\"]]"
   ]
  },
  {
   "cell_type": "markdown",
   "metadata": {
    "id": "0QsKFYW_xGes"
   },
   "source": [
    "# Modeling"
   ]
  },
  {
   "cell_type": "code",
   "execution_count": null,
   "metadata": {
    "id": "KZqLTcSCj8V5"
   },
   "outputs": [],
   "source": [
    "from sklearn.linear_model import LogisticRegression\n",
    "from tensorflow.keras.layers import Input, Dense, Dropout\n",
    "from tensorflow.keras.models import Model\n",
    "from tensorflow.keras.optimizers import SGD\n",
    "\n",
    "_KEEP_COLUMNS_MODEL_1 = ['TransactionAmt']\n",
    "\n",
    "_KEEP_COLUMNS_MODEL_1_5 = ['ProductCD', 'TransactionAmt', 'card1', 'card2', 'card3', 'card4', \n",
    "                      'card5', 'card6', 'P_emaildomain', 'isFraud']\n",
    "\n",
    "_KEEP_COLUMNS_MODEL_2 = ['TransactionID', 'isFraud', 'TransactionDT', 'TransactionAmt', 'ProductCD', 'card1', 'card2', 'card3', 'card4', \n",
    "                      'card5', 'card6', 'addr1', 'addr2', 'dist1', 'dist2', 'P_emaildomain', 'R_emaildomain']\n",
    "\n",
    "_RESPONSE = 'isFraud'"
   ]
  },
  {
   "cell_type": "code",
   "execution_count": null,
   "metadata": {
    "id": "DD3-yx-rkHLn"
   },
   "outputs": [],
   "source": [
    "train_txn_copy = train_txn.copy()\n",
    "train_txn_copy = train_txn_copy[_KEEP_COLUMNS_MODEL_2]"
   ]
  },
  {
   "cell_type": "markdown",
   "metadata": {
    "id": "GUVISK-Kl18x"
   },
   "source": [
    "Separate the training data columns from the target column for easier use later in modeling."
   ]
  },
  {
   "cell_type": "code",
   "execution_count": null,
   "metadata": {
    "id": "kWqjDL1OkLgE"
   },
   "outputs": [],
   "source": [
    "y_df = train_txn_copy[_RESPONSE]\n",
    "x_df = train_txn_copy\n",
    "# remove the target label from our training dataframe...\n",
    "del x_df[_RESPONSE]"
   ]
  },
  {
   "cell_type": "code",
   "execution_count": null,
   "metadata": {
    "id": "ll5bMi1jk0TQ"
   },
   "outputs": [],
   "source": [
    "# stratify on the target column to keep the approximate balance of positive examples since it's so imbalanced\n",
    "x_train_df, x_test_df, y_train_df, y_test_df = \\\n",
    "  train_test_split(x_df, y_df, test_size=0.25, stratify=y_df)"
   ]
  },
  {
   "cell_type": "code",
   "execution_count": null,
   "metadata": {
    "colab": {
     "base_uri": "https://localhost:8080/",
     "height": 270
    },
    "id": "zn34QIKUlCbe",
    "outputId": "e72b4774-b582-4cb2-963a-da9a4a3c5563"
   },
   "outputs": [],
   "source": [
    "x_train_df.head()"
   ]
  },
  {
   "cell_type": "code",
   "execution_count": null,
   "metadata": {
    "colab": {
     "base_uri": "https://localhost:8080/"
    },
    "id": "7iScedrhlxDz",
    "outputId": "740fbe56-dca4-4ae2-c881-b229b4a1efc0"
   },
   "outputs": [],
   "source": [
    "y_train_df.head()"
   ]
  },
  {
   "cell_type": "markdown",
   "metadata": {
    "id": "JrEFoeAknTyR"
   },
   "source": [
    "Let's create a dummy 'model' that always predicts \"no fraud\" -- zeroes for every response."
   ]
  },
  {
   "cell_type": "code",
   "execution_count": null,
   "metadata": {
    "id": "bMg4-PRhlRq0"
   },
   "outputs": [],
   "source": [
    "y_pred_dummy = np.zeros(y_train_df.shape[0])"
   ]
  },
  {
   "cell_type": "markdown",
   "metadata": {
    "id": "8ieb8L5-ncK3"
   },
   "source": [
    "Are we done here? 97% accuracy? We rule!"
   ]
  },
  {
   "cell_type": "code",
   "execution_count": null,
   "metadata": {
    "colab": {
     "base_uri": "https://localhost:8080/"
    },
    "id": "qY_KgMbZlIqx",
    "outputId": "3c37f64b-fc19-440a-f8aa-11be5341a096"
   },
   "outputs": [],
   "source": [
    "accuracy_score(y_train_df, y_pred_dummy)"
   ]
  },
  {
   "cell_type": "markdown",
   "metadata": {
    "id": "xrECsY5HnofV"
   },
   "source": [
    "Not so fast... Remember the ROC-AUC metric?\n",
    "[Let's recall with this short YouTube Video](https://www.youtube.com/watch?v=MUCo7NvB9SI) and if you want more, you can also read more with [this good explanation](https://towardsdatascience.com/understanding-auc-roc-curve-68b2303cc9c5). Along with countless detailed YouTube videos, etc."
   ]
  },
  {
   "cell_type": "code",
   "execution_count": null,
   "metadata": {
    "colab": {
     "base_uri": "https://localhost:8080/"
    },
    "id": "mvaIJsRlnaou",
    "outputId": "48cd47be-5057-47f4-a4e2-34075ee14e87"
   },
   "outputs": [],
   "source": [
    "roc_auc_score(y_train_df, y_pred_dummy)"
   ]
  },
  {
   "cell_type": "markdown",
   "metadata": {
    "id": "TtpklYBfrzyT"
   },
   "source": [
    "## Very naive model on txn amount\n",
    "Let's see how we can do with a very simple model on only transaction amount."
   ]
  },
  {
   "cell_type": "code",
   "execution_count": null,
   "metadata": {
    "colab": {
     "base_uri": "https://localhost:8080/"
    },
    "id": "YeZ-wke58F6Z",
    "outputId": "087f568c-5df4-407b-940b-32c4941795f2"
   },
   "outputs": [],
   "source": [
    "_KEEP_COLUMNS_MODEL_1"
   ]
  },
  {
   "cell_type": "code",
   "execution_count": null,
   "metadata": {
    "id": "rwh1oTKEr7wC"
   },
   "outputs": [],
   "source": [
    "x_train_df = x_train_df[_KEEP_COLUMNS_MODEL_1]"
   ]
  },
  {
   "cell_type": "markdown",
   "metadata": {
    "id": "BEXdtU2Ps8DG"
   },
   "source": [
    "Do some basic validation that the data looks like we think it should..."
   ]
  },
  {
   "cell_type": "code",
   "execution_count": null,
   "metadata": {
    "colab": {
     "base_uri": "https://localhost:8080/"
    },
    "id": "T14EUyyGsw4D",
    "outputId": "c71fac47-7107-49bf-9f52-81be0f4f87ea"
   },
   "outputs": [],
   "source": [
    "y_train_df.head().values"
   ]
  },
  {
   "cell_type": "code",
   "execution_count": null,
   "metadata": {
    "colab": {
     "base_uri": "https://localhost:8080/"
    },
    "id": "r3gMwxbbs1m3",
    "outputId": "8796725e-5d05-4747-d2c6-cb4daa5b12c1"
   },
   "outputs": [],
   "source": [
    "len(x_train_df)"
   ]
  },
  {
   "cell_type": "markdown",
   "metadata": {
    "id": "T6-ZdoFOtH3x"
   },
   "source": [
    "make sure there's no missing data..."
   ]
  },
  {
   "cell_type": "code",
   "execution_count": null,
   "metadata": {
    "colab": {
     "base_uri": "https://localhost:8080/"
    },
    "id": "b9UiEj1Ss_YB",
    "outputId": "df028f6d-c379-4c1e-8107-2adf3bcca2d4"
   },
   "outputs": [],
   "source": [
    "x_train_df.TransactionAmt.isna().sum()"
   ]
  },
  {
   "cell_type": "code",
   "execution_count": null,
   "metadata": {
    "colab": {
     "base_uri": "https://localhost:8080/"
    },
    "id": "R653RU7dtFCL",
    "outputId": "b9afbd13-dac1-4121-e6c3-c79422af0eb1"
   },
   "outputs": [],
   "source": [
    "y_train_df.isna().sum()"
   ]
  },
  {
   "cell_type": "markdown",
   "metadata": {
    "id": "LWyJhCObvJFp"
   },
   "source": [
    "Train a simple logistic regression with all default parameters."
   ]
  },
  {
   "cell_type": "code",
   "execution_count": null,
   "metadata": {
    "colab": {
     "base_uri": "https://localhost:8080/"
    },
    "id": "Tt4xZH2ctJu2",
    "outputId": "64ebd487-be07-4145-ee56-7157d3fc99a1"
   },
   "outputs": [],
   "source": [
    "naive_baseline_lr = LogisticRegression(solver='lbfgs').fit(x_train_df, y_train_df)  # random_state=0, \n",
    "naive_baseline_lr.score(x_train_df, y_train_df)"
   ]
  },
  {
   "cell_type": "code",
   "execution_count": null,
   "metadata": {
    "colab": {
     "base_uri": "https://localhost:8080/"
    },
    "id": "AjiLA8vxz7MC",
    "outputId": "6eb105ea-2f8f-4e81-8f15-e1a6b8473f7d"
   },
   "outputs": [],
   "source": [
    "x_test_df.shape"
   ]
  },
  {
   "cell_type": "markdown",
   "metadata": {
    "id": "SFvuGee6vMt_"
   },
   "source": [
    "Get a few predictions to make sure it's working"
   ]
  },
  {
   "cell_type": "code",
   "execution_count": null,
   "metadata": {
    "colab": {
     "base_uri": "https://localhost:8080/"
    },
    "id": "-shQgDi6u951",
    "outputId": "88cda810-9273-4512-98cc-3c2bd2156d73"
   },
   "outputs": [],
   "source": [
    "y_pred = naive_baseline_lr.predict_proba(x_train_df)\n",
    "# grab the predictions for the positive class...\n",
    "y_pred = y_pred[:,1]\n",
    "y_pred[:5]"
   ]
  },
  {
   "cell_type": "code",
   "execution_count": null,
   "metadata": {
    "colab": {
     "base_uri": "https://localhost:8080/"
    },
    "id": "uT8QVfw4zG47",
    "outputId": "c7fe55bb-3c8a-487c-cdfd-6aba77b9adb2"
   },
   "outputs": [],
   "source": [
    "roc_auc_score(y_train_df, y_pred)"
   ]
  },
  {
   "cell_type": "markdown",
   "metadata": {
    "id": "X7-gxQjN0Dyl"
   },
   "source": [
    "Oops, we tested on our training data. Let's try again with data the model hasn't already seen."
   ]
  },
  {
   "cell_type": "code",
   "execution_count": null,
   "metadata": {
    "colab": {
     "base_uri": "https://localhost:8080/"
    },
    "id": "uOItFY_gyx4Z",
    "outputId": "75b2f7bb-395e-460a-a3cd-70805575dff8"
   },
   "outputs": [],
   "source": [
    "x_test_simple_df = x_test_df[_KEEP_COLUMNS_MODEL_1]\n",
    "y_pred = naive_baseline_lr.predict_proba(x_test_simple_df)\n",
    "y_pred[:5]"
   ]
  },
  {
   "cell_type": "markdown",
   "metadata": {
    "id": "LuI_BjA1wHI3"
   },
   "source": [
    "pull out just the positive label score"
   ]
  },
  {
   "cell_type": "code",
   "execution_count": null,
   "metadata": {
    "colab": {
     "base_uri": "https://localhost:8080/"
    },
    "id": "C1qditQEwE4M",
    "outputId": "de30a997-8d0d-4fee-9751-aee1bea5305c"
   },
   "outputs": [],
   "source": [
    "y_pred = y_pred[:,1]\n",
    "y_pred[:5]"
   ]
  },
  {
   "cell_type": "code",
   "execution_count": null,
   "metadata": {
    "colab": {
     "base_uri": "https://localhost:8080/"
    },
    "id": "iRxI-bZjvSTV",
    "outputId": "6a3e002a-f4e9-4375-ec00-943aa62e5bd4"
   },
   "outputs": [],
   "source": [
    "y_pred = y_pred > 0.5\n",
    "print('Our accuracy is: {} and ROC-AUC is: {}'.format(accuracy_score(y_test_df, y_pred), roc_auc_score(y_test_df, y_pred)))"
   ]
  },
  {
   "cell_type": "markdown",
   "metadata": {
    "id": "VWfwjTejfx9t"
   },
   "source": [
    "## Two features"
   ]
  },
  {
   "cell_type": "code",
   "execution_count": null,
   "metadata": {
    "colab": {
     "base_uri": "https://localhost:8080/",
     "height": 469
    },
    "id": "sFwJGM7Lf0Wg",
    "outputId": "466da948-32e5-4c12-840d-94c318f7559c"
   },
   "outputs": [],
   "source": [
    "train_txn_copy = train_txn.copy()\n",
    "y_df = train_txn_copy[_RESPONSE]\n",
    "x_df = train_txn_copy\n",
    "# remove the target label from our training dataframe...\n",
    "del x_df[_RESPONSE]\n",
    "\n",
    "# stratify on the target column to keep the approximate balance of positive examples since it's so imbalanced\n",
    "x_train_df, x_test_df, y_train_df, y_test_df = \\\n",
    "  train_test_split(x_df, y_df, test_size=0.25, stratify=y_df)\n",
    "\n",
    "_KEEP_COLUMNS_MODEL_TxnPcd = ['TransactionAmt', 'ProductCD']\n",
    "x_train_norm_df = x_train_df[_KEEP_COLUMNS_MODEL_TxnPcd]\n",
    "x_train_norm_df.TransactionAmt = (x_train_norm_df.TransactionAmt - x_train_df.TransactionAmt.mean()) / x_train_df.TransactionAmt.std()\n",
    "x_train_norm_df[:10]"
   ]
  },
  {
   "cell_type": "code",
   "execution_count": null,
   "metadata": {
    "colab": {
     "base_uri": "https://localhost:8080/",
     "height": 424
    },
    "id": "A1b-KAOMgRvl",
    "outputId": "8ae75fac-2c29-4938-f3f2-c40802674e02"
   },
   "outputs": [],
   "source": [
    "x_train_oh_df = pd.get_dummies(x_train_norm_df)\n",
    "x_train_oh_df"
   ]
  },
  {
   "cell_type": "markdown",
   "metadata": {
    "id": "7IPIl8lmidAf"
   },
   "source": [
    "#### logistic version with two values..."
   ]
  },
  {
   "cell_type": "code",
   "execution_count": null,
   "metadata": {
    "colab": {
     "base_uri": "https://localhost:8080/"
    },
    "id": "30PUjpQAgmsu",
    "outputId": "c6bb2d99-fedb-423a-c5f9-f885f206ab5d"
   },
   "outputs": [],
   "source": [
    "two_fr_lr = LogisticRegression(solver='lbfgs').fit(x_train_oh_df.values, y_train_df.values)  # random_state=0, \n",
    "two_fr_lr.score(x_train_oh_df.values, y_train_df.values)"
   ]
  },
  {
   "cell_type": "code",
   "execution_count": null,
   "metadata": {
    "colab": {
     "base_uri": "https://localhost:8080/",
     "height": 530
    },
    "id": "cSWlVYTW-OhY",
    "outputId": "6d52eb8a-69ea-439d-d409-a5f77e5482c0"
   },
   "outputs": [],
   "source": [
    "x_test_norm_df = x_test_df[_KEEP_COLUMNS_MODEL_TxnPcd]\n",
    "x_test_norm_df.TransactionAmt = (x_test_df.TransactionAmt - x_train_df.TransactionAmt.mean()) / x_train_df.TransactionAmt.std()\n",
    "x_test_norm_df"
   ]
  },
  {
   "cell_type": "code",
   "execution_count": null,
   "metadata": {
    "id": "G87iBgOx-wOg"
   },
   "outputs": [],
   "source": [
    "x_test_oh_df = pd.get_dummies(x_test_norm_df)"
   ]
  },
  {
   "cell_type": "code",
   "execution_count": null,
   "metadata": {
    "colab": {
     "base_uri": "https://localhost:8080/"
    },
    "id": "t6RhyNbzgsN4",
    "outputId": "4e4c5839-1617-45a7-8fb5-80b083c5fc1d"
   },
   "outputs": [],
   "source": [
    "y_pred = two_fr_lr.predict_proba(x_test_oh_df)\n",
    "# grab the predictions for the positive class...\n",
    "y_pred = y_pred[:,1]\n",
    "y_pred[:5]\n",
    "y_pred_bin = y_pred > 0.5"
   ]
  },
  {
   "cell_type": "code",
   "execution_count": null,
   "metadata": {
    "colab": {
     "base_uri": "https://localhost:8080/"
    },
    "id": "fnbtLdNjhwAj",
    "outputId": "68d0ef58-70f7-471d-cdb7-6fecd90b5159"
   },
   "outputs": [],
   "source": [
    "print('Our accuracy is: {} and ROC-AUC is: {}'.format(accuracy_score(y_test_df, y_pred_bin), roc_auc_score(y_test_df, y_pred)))"
   ]
  },
  {
   "cell_type": "markdown",
   "metadata": {
    "id": "AlEVF74QiY98"
   },
   "source": [
    "#### keras version with two values..."
   ]
  },
  {
   "cell_type": "code",
   "execution_count": null,
   "metadata": {
    "colab": {
     "base_uri": "https://localhost:8080/"
    },
    "id": "SRVp8iyhgVrq",
    "outputId": "a6308200-8b44-4431-c873-71b61883b642"
   },
   "outputs": [],
   "source": [
    "inputs = Input(shape=(x_train_oh_df.values.shape[1],))\n",
    "preds = Dense(1, activation='sigmoid')(inputs)\n",
    "model = Model(inputs=inputs, outputs=preds)\n",
    "model.compile(optimizer=SGD(), loss='binary_crossentropy', metrics=['accuracy'])\n",
    "model.fit(x_train_oh_df.values, y_train_df.values, batch_size=512, epochs=10, shuffle=False)"
   ]
  },
  {
   "cell_type": "code",
   "execution_count": null,
   "metadata": {
    "id": "oBgKBR3qgccL"
   },
   "outputs": [],
   "source": [
    "y_pred_k = model.predict(x_test_oh_df.values)"
   ]
  },
  {
   "cell_type": "code",
   "execution_count": null,
   "metadata": {
    "colab": {
     "base_uri": "https://localhost:8080/"
    },
    "id": "w65Fw0nzPivl",
    "outputId": "c5fc5ab1-2bb1-48bb-b444-ed9b4aa2976a"
   },
   "outputs": [],
   "source": [
    "roc_auc_score(y_test_df, y_pred_k)"
   ]
  },
  {
   "cell_type": "code",
   "execution_count": null,
   "metadata": {},
   "outputs": [],
   "source": [
    "# To get your project name\n",
    "# Project name = bucket name\n",
    "\n",
    "import google.auth\n",
    "\n",
    "_, project_id = google.auth.default()"
   ]
  },
  {
   "cell_type": "code",
   "execution_count": null,
   "metadata": {},
   "outputs": [],
   "source": [
    "model.save(f'gs://{project_id}/model1')"
   ]
  },
  {
   "cell_type": "code",
   "execution_count": null,
   "metadata": {},
   "outputs": [],
   "source": []
  }
 ],
 "metadata": {
  "accelerator": "GPU",
  "colab": {
   "collapsed_sections": [
    "nbEFPKCQOcOV",
    "o7Y7KCDhO2QF"
   ],
   "provenance": [],
   "toc_visible": true
  },
  "environment": {
   "kernel": "python3",
   "name": "tf2-gpu.2-8.m100",
   "type": "gcloud",
   "uri": "gcr.io/deeplearning-platform-release/tf2-gpu.2-8:m100"
  },
  "kernelspec": {
   "display_name": "Python 3",
   "language": "python",
   "name": "python3"
  },
  "language_info": {
   "codemirror_mode": {
    "name": "ipython",
    "version": 3
   },
   "file_extension": ".py",
   "mimetype": "text/x-python",
   "name": "python",
   "nbconvert_exporter": "python",
   "pygments_lexer": "ipython3",
   "version": "3.7.12"
  }
 },
 "nbformat": 4,
 "nbformat_minor": 4
}
