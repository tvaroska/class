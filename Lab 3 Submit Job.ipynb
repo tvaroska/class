{
 "cells": [
  {
   "cell_type": "code",
   "execution_count": null,
   "id": "47d4149e-e844-48e8-bde9-e0374d7de71a",
   "metadata": {},
   "outputs": [],
   "source": [
    "import google.auth\n",
    "from google.cloud import aiplatform"
   ]
  },
  {
   "cell_type": "code",
   "execution_count": null,
   "id": "650ae073-33e2-4fe9-9b00-4f8bbb03955a",
   "metadata": {},
   "outputs": [],
   "source": [
    "_, project_id = google.auth.default()"
   ]
  },
  {
   "cell_type": "code",
   "execution_count": null,
   "id": "aad90c5f-635b-4af2-a6cf-20a6f76db1ec",
   "metadata": {},
   "outputs": [],
   "source": [
    "!gsutil -m cp data/*.csv gs://{project_id}/data/"
   ]
  },
  {
   "cell_type": "code",
   "execution_count": null,
   "id": "23ea6bcd-fe4c-433f-a1a5-aa47fbf6d529",
   "metadata": {},
   "outputs": [],
   "source": [
    "aiplatform.init(project=project_id, location='us-central1')"
   ]
  },
  {
   "cell_type": "code",
   "execution_count": null,
   "id": "369a93d8-ef57-4e7f-92d8-ff43ba552186",
   "metadata": {},
   "outputs": [],
   "source": [
    "job = aiplatform.CustomJob.from_local_script(\n",
    "    display_name = 'fraud',\n",
    "    script_path='lab3.py',\n",
    "    args=['--project', project_id],\n",
    "    container_uri='us-docker.pkg.dev/vertex-ai/training/tf-cpu.2-8:latest',\n",
    "    base_output_dir=f'gs://{project_id}/training',\n",
    "    staging_bucket=f'gs://{project_id}/staging'\n",
    ")"
   ]
  },
  {
   "cell_type": "code",
   "execution_count": null,
   "id": "9d44d729-4048-4c00-9048-566d8af1550b",
   "metadata": {},
   "outputs": [],
   "source": [
    "job.run()"
   ]
  },
  {
   "cell_type": "code",
   "execution_count": null,
   "id": "2d1a04c3-04b4-4f7a-a0f7-4c7c08e1cbf5",
   "metadata": {},
   "outputs": [],
   "source": []
  }
 ],
 "metadata": {
  "environment": {
   "kernel": "python3",
   "name": "tf2-gpu.2-8.m100",
   "type": "gcloud",
   "uri": "gcr.io/deeplearning-platform-release/tf2-gpu.2-8:m100"
  },
  "kernelspec": {
   "display_name": "Python 3",
   "language": "python",
   "name": "python3"
  },
  "language_info": {
   "codemirror_mode": {
    "name": "ipython",
    "version": 3
   },
   "file_extension": ".py",
   "mimetype": "text/x-python",
   "name": "python",
   "nbconvert_exporter": "python",
   "pygments_lexer": "ipython3",
   "version": "3.7.12"
  }
 },
 "nbformat": 4,
 "nbformat_minor": 5
}
