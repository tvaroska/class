{
 "cells": [
  {
   "cell_type": "code",
   "execution_count": null,
   "id": "104fcd59-70b6-424d-bdf6-aa9ddb295949",
   "metadata": {},
   "outputs": [],
   "source": [
    "import google.auth\n",
    "from google.cloud import aiplatform"
   ]
  },
  {
   "cell_type": "code",
   "execution_count": null,
   "id": "c8c140a6-dfcd-4d85-9673-b8af02e33154",
   "metadata": {},
   "outputs": [],
   "source": [
    "_, project_id = google.auth.default()"
   ]
  },
  {
   "cell_type": "code",
   "execution_count": null,
   "id": "13b7e681-9c82-4e99-a1c6-21d7f43dcd28",
   "metadata": {},
   "outputs": [],
   "source": [
    "aiplatform.init(project=project_id, location='us-central1')"
   ]
  },
  {
   "cell_type": "code",
   "execution_count": null,
   "id": "bcd3a55e-f281-4eb4-95cf-dd68fba43da6",
   "metadata": {},
   "outputs": [],
   "source": [
    "# Let's find our endpoint = we have only one so we can take first one\n",
    "endpoint = aiplatform.Endpoint.list()[0]"
   ]
  },
  {
   "cell_type": "code",
   "execution_count": null,
   "id": "9c71564c-0129-4b92-9c46-91e4a6f528d5",
   "metadata": {},
   "outputs": [],
   "source": [
    "# Data from test dataset - has to be the same format, the same preprocessing\n",
    "\n",
    "instances = [\n",
    "    [-0.37901656, 1., 0., 0., 0., 0.],\n",
    "    [ 0.10433826, 0., 0., 0., 0., 1.],\n",
    "    [-0.44773118, 0., 0., 0., 0., 1.]\n",
    "]"
   ]
  },
  {
   "cell_type": "code",
   "execution_count": null,
   "id": "46e50dd2-7589-4aff-9425-47ab91429e89",
   "metadata": {},
   "outputs": [],
   "source": [
    "endpoint.predict(\n",
    "    instances = instances\n",
    ")"
   ]
  }
 ],
 "metadata": {
  "environment": {
   "kernel": "python3",
   "name": "tf2-gpu.2-8.m100",
   "type": "gcloud",
   "uri": "gcr.io/deeplearning-platform-release/tf2-gpu.2-8:m100"
  },
  "kernelspec": {
   "display_name": "Python 3",
   "language": "python",
   "name": "python3"
  },
  "language_info": {
   "codemirror_mode": {
    "name": "ipython",
    "version": 3
   },
   "file_extension": ".py",
   "mimetype": "text/x-python",
   "name": "python",
   "nbconvert_exporter": "python",
   "pygments_lexer": "ipython3",
   "version": "3.7.12"
  }
 },
 "nbformat": 4,
 "nbformat_minor": 5
}
